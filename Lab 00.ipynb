{
  "nbformat": 4,
  "nbformat_minor": 0,
  "metadata": {
    "colab": {
      "provenance": []
    },
    "kernelspec": {
      "name": "python3",
      "display_name": "Python 3"
    },
    "language_info": {
      "name": "python"
    }
  },
  "cells": [
    {
      "cell_type": "code",
      "execution_count": 1,
      "metadata": {
        "colab": {
          "base_uri": "https://localhost:8080/"
        },
        "id": "UbuqEZ6AjAsm",
        "outputId": "7ef6d38c-8b4f-41a9-c3f3-5c988809897c"
      },
      "outputs": [
        {
          "output_type": "execute_result",
          "data": {
            "text/plain": [
              "{'0': array([2, 4]), '1': array([ 4, -5]), 'output': array([2, 7])}"
            ]
          },
          "metadata": {},
          "execution_count": 1
        }
      ],
      "source": [
        "import numpy as np\n",
        "\n",
        "input = np.array([3, 5])\n",
        "\n",
        "weights = {\"0\":np.array([2, 4]), \"1\":np.array([4,  -5]), \"output\":np.array([2, 7])}\n",
        "\n",
        "weights"
      ]
    },
    {
      "cell_type": "code",
      "source": [
        "node_0 = (weights[\"0\"] * input).sum()\n",
        "\n",
        "node_1 = (weights[\"1\"] * input).sum()\n",
        "\n",
        "node_0, node_1"
      ],
      "metadata": {
        "colab": {
          "base_uri": "https://localhost:8080/"
        },
        "id": "GRxIH12njmZ8",
        "outputId": "9c49def2-0247-4e44-9018-592b8f73f0ff"
      },
      "execution_count": 2,
      "outputs": [
        {
          "output_type": "execute_result",
          "data": {
            "text/plain": [
              "(26, -13)"
            ]
          },
          "metadata": {},
          "execution_count": 2
        }
      ]
    },
    {
      "cell_type": "code",
      "source": [
        "layer = np.array([node_0, node_1])\n",
        "\n",
        "output = (layer * weights[\"output\"]).sum()\n",
        "\n",
        "output"
      ],
      "metadata": {
        "colab": {
          "base_uri": "https://localhost:8080/"
        },
        "id": "ZPH2gQ8IkS3G",
        "outputId": "3e333a06-09bb-4c8f-eb7c-865defe9f595"
      },
      "execution_count": 3,
      "outputs": [
        {
          "output_type": "execute_result",
          "data": {
            "text/plain": [
              "-39"
            ]
          },
          "metadata": {},
          "execution_count": 3
        }
      ]
    },
    {
      "cell_type": "code",
      "source": [
        "relu = lambda i : max(0, i)\n",
        "\n",
        "relu(5), relu(-10)"
      ],
      "metadata": {
        "colab": {
          "base_uri": "https://localhost:8080/"
        },
        "id": "czBoQXzlkvgD",
        "outputId": "343945b4-5f80-4c66-9e09-906e8d806766"
      },
      "execution_count": 4,
      "outputs": [
        {
          "output_type": "execute_result",
          "data": {
            "text/plain": [
              "(5, 0)"
            ]
          },
          "metadata": {},
          "execution_count": 4
        }
      ]
    },
    {
      "cell_type": "code",
      "source": [
        "node_0 = relu((weights[\"0\"] * input).sum())\n",
        "\n",
        "node_1 = relu((weights[\"1\"] * input).sum())\n",
        "\n",
        "node_0, node_1"
      ],
      "metadata": {
        "colab": {
          "base_uri": "https://localhost:8080/"
        },
        "id": "eZmgYEsfk4Tl",
        "outputId": "5a7a31bf-be5d-42b0-89ff-1056bedba4e9"
      },
      "execution_count": 5,
      "outputs": [
        {
          "output_type": "execute_result",
          "data": {
            "text/plain": [
              "(26, 0)"
            ]
          },
          "metadata": {},
          "execution_count": 5
        }
      ]
    },
    {
      "cell_type": "code",
      "source": [
        "layer = np.array([node_0, node_1])\n",
        "\n",
        "output = (layer * weights[\"output\"]).sum()\n",
        "\n",
        "output"
      ],
      "metadata": {
        "colab": {
          "base_uri": "https://localhost:8080/"
        },
        "id": "RTeh8ivMlC9W",
        "outputId": "d265a4e5-bb04-4386-9943-16746626791b"
      },
      "execution_count": 6,
      "outputs": [
        {
          "output_type": "execute_result",
          "data": {
            "text/plain": [
              "52"
            ]
          },
          "metadata": {},
          "execution_count": 6
        }
      ]
    },
    {
      "cell_type": "code",
      "source": [
        "inputer = [np.array([3, 5]), np.array([ 1, -1]), np.array([0, 0]), np.array([8, 4])]\n",
        "\n",
        "def predict(dataset):\n",
        "\n",
        "  node_0 = relu((weights[\"0\"] * dataset).sum())\n",
        "\n",
        "  node_1 = relu((weights[\"1\"] * dataset).sum())\n",
        "\n",
        "  layer = np.array([node_0, node_1])\n",
        "\n",
        "  output = (layer * weights[\"output\"]).sum()\n",
        "\n",
        "  return output\n",
        "\n",
        "[predict(i) for i in inputer]"
      ],
      "metadata": {
        "colab": {
          "base_uri": "https://localhost:8080/"
        },
        "id": "SlSdoZadlboa",
        "outputId": "067c4696-bc3b-4ef5-c52e-a47c35fa8f2e"
      },
      "execution_count": 7,
      "outputs": [
        {
          "output_type": "execute_result",
          "data": {
            "text/plain": [
              "[52, 63, 0, 148]"
            ]
          },
          "metadata": {},
          "execution_count": 7
        }
      ]
    },
    {
      "cell_type": "code",
      "source": [
        "weights = {\n",
        "  'node_0_0': np.array([2, 4]), 'node_0_1': np.array([ 4, -5]),\n",
        "  'node_1_0': np.array([-1,  2]), 'node_1_1': np.array([1, 2]),\n",
        "  'output': np.array([2, 7])\n",
        "}"
      ],
      "metadata": {
        "id": "Eg38UJ_Nma-w"
      },
      "execution_count": 8,
      "outputs": []
    },
    {
      "cell_type": "code",
      "source": [
        "def multir(dataset):\n",
        "\n",
        "  node_0_0 = relu((weights[\"node_0_0\"] * dataset).sum())\n",
        "\n",
        "  node_0_1 = relu((weights[\"node_0_1\"] * dataset).sum())\n",
        "\n",
        "  layer = np.array([node_0_0, node_0_1])\n",
        "\n",
        "  node_1_0 = relu((weights[\"node_1_0\"] * layer).sum())\n",
        "\n",
        "  node_1_1 = relu((weights[\"node_1_1\"] * layer).sum())\n",
        "\n",
        "  layer = np.array([node_1_0, node_1_1])\n",
        "\n",
        "  output = (weights[\"output\"] * layer).sum()\n",
        "\n",
        "  return output\n",
        "\n",
        "multir(input)"
      ],
      "metadata": {
        "colab": {
          "base_uri": "https://localhost:8080/"
        },
        "id": "PkXCyOLRmuRZ",
        "outputId": "76fc6182-d5d1-434a-b143-41fa88c01449"
      },
      "execution_count": 9,
      "outputs": [
        {
          "output_type": "execute_result",
          "data": {
            "text/plain": [
              "182"
            ]
          },
          "metadata": {},
          "execution_count": 9
        }
      ]
    },
    {
      "cell_type": "markdown",
      "source": [
        "```01```"
      ],
      "metadata": {
        "id": "g7XcEce1phmb"
      }
    },
    {
      "cell_type": "code",
      "source": [
        "input = np.array([0, 3])\n",
        "\n",
        "init_weights = {'node_0': np.array([2, 1]), 'node_1': np.array([1, 2]), 'output': np.array([1, 1])}\n",
        "\n",
        "target = 3\n",
        "\n",
        "def predict(dataset, weights):\n",
        "\n",
        "  node_0 = relu((weights[\"node_0\"] * dataset).sum())\n",
        "\n",
        "  node_1 = relu((weights[\"node_1\"] * dataset).sum())\n",
        "\n",
        "  layer = np.array([node_0, node_1])\n",
        "\n",
        "  output = (layer * weights[\"output\"]).sum()\n",
        "\n",
        "  return output\n",
        "\n",
        "output = predict(input, init_weights)\n",
        "\n",
        "output"
      ],
      "metadata": {
        "colab": {
          "base_uri": "https://localhost:8080/"
        },
        "id": "gPrtuSw4phK8",
        "outputId": "7c4e6e94-db9a-4516-c2c0-9f0755170d92"
      },
      "execution_count": 10,
      "outputs": [
        {
          "output_type": "execute_result",
          "data": {
            "text/plain": [
              "9"
            ]
          },
          "metadata": {},
          "execution_count": 10
        }
      ]
    },
    {
      "cell_type": "code",
      "source": [
        "output - target"
      ],
      "metadata": {
        "colab": {
          "base_uri": "https://localhost:8080/"
        },
        "id": "hak_hpgjqGZ2",
        "outputId": "f5cb79d1-a5da-4b31-f67e-dda68fac912f"
      },
      "execution_count": 11,
      "outputs": [
        {
          "output_type": "execute_result",
          "data": {
            "text/plain": [
              "6"
            ]
          },
          "metadata": {},
          "execution_count": 11
        }
      ]
    },
    {
      "cell_type": "code",
      "source": [
        "init_weights = {'node_0': np.array([2, 1]), 'node_1': np.array([1, 0]), 'output': np.array([1, 1])}\n",
        "\n",
        "output = predict(input, init_weights)\n",
        "\n",
        "output"
      ],
      "metadata": {
        "colab": {
          "base_uri": "https://localhost:8080/"
        },
        "id": "vSEHaL_-qLUt",
        "outputId": "9a0f419f-dc81-4588-ee72-c3c6bf33f7f5"
      },
      "execution_count": 12,
      "outputs": [
        {
          "output_type": "execute_result",
          "data": {
            "text/plain": [
              "3"
            ]
          },
          "metadata": {},
          "execution_count": 12
        }
      ]
    },
    {
      "cell_type": "code",
      "source": [
        "output - target"
      ],
      "metadata": {
        "colab": {
          "base_uri": "https://localhost:8080/"
        },
        "id": "sof0fjKHqTC3",
        "outputId": "90170e32-bfa5-45cd-b18a-8b163a51f1f0"
      },
      "execution_count": 13,
      "outputs": [
        {
          "output_type": "execute_result",
          "data": {
            "text/plain": [
              "0"
            ]
          },
          "metadata": {},
          "execution_count": 13
        }
      ]
    },
    {
      "cell_type": "code",
      "source": [
        "from sklearn.metrics import mean_squared_error\n",
        "\n",
        "input_data = [np.array([0, 3]), np.array([1, 2]), np.array([-1, -2]), np.array([4, 0])]\n",
        "\n",
        "target_actuals = [1, 3, 5, 7]\n",
        "\n",
        "init_weights = {'node_0': np.array([2, 1]), 'node_1': np.array([1, 2]), 'output': np.array([1, 1])}\n",
        "\n",
        "weights = {'node_0': np.array([2, 1]), 'node_1': np.array([1. , 1.5]), 'output': np.array([1. , 1.5])}"
      ],
      "metadata": {
        "id": "j_fKXtvxqgWi"
      },
      "execution_count": 14,
      "outputs": []
    },
    {
      "cell_type": "code",
      "source": [
        "init = [predict(i, init_weights) for i in input_data]\n",
        "\n",
        "init"
      ],
      "metadata": {
        "colab": {
          "base_uri": "https://localhost:8080/"
        },
        "id": "g_8JKWtkqoEN",
        "outputId": "f8fc99ba-ebae-4924-f7e2-887dd31c353b"
      },
      "execution_count": 15,
      "outputs": [
        {
          "output_type": "execute_result",
          "data": {
            "text/plain": [
              "[9, 9, 0, 12]"
            ]
          },
          "metadata": {},
          "execution_count": 15
        }
      ]
    },
    {
      "cell_type": "code",
      "source": [
        "mean_squared_error(target_actuals, init)"
      ],
      "metadata": {
        "colab": {
          "base_uri": "https://localhost:8080/"
        },
        "id": "4D_iMRJRrCCk",
        "outputId": "72bad05a-52c5-494c-ce17-836dff0c1994"
      },
      "execution_count": 16,
      "outputs": [
        {
          "output_type": "execute_result",
          "data": {
            "text/plain": [
              "37.5"
            ]
          },
          "metadata": {},
          "execution_count": 16
        }
      ]
    },
    {
      "cell_type": "code",
      "source": [
        "result = [predict(i, weights) for i in input_data]\n",
        "\n",
        "result"
      ],
      "metadata": {
        "colab": {
          "base_uri": "https://localhost:8080/"
        },
        "id": "LSWyHqG5q5VW",
        "outputId": "5919bef0-e60a-44a0-85ed-a052d06e2cc0"
      },
      "execution_count": 17,
      "outputs": [
        {
          "output_type": "execute_result",
          "data": {
            "text/plain": [
              "[9.75, 10.0, 0.0, 14.0]"
            ]
          },
          "metadata": {},
          "execution_count": 17
        }
      ]
    },
    {
      "cell_type": "code",
      "source": [
        "mean_squared_error(target_actuals, result)"
      ],
      "metadata": {
        "colab": {
          "base_uri": "https://localhost:8080/"
        },
        "id": "uMzzZPohrHn8",
        "outputId": "020f1a0d-492b-4c4b-d88d-0ab5fbb0a3f9"
      },
      "execution_count": 18,
      "outputs": [
        {
          "output_type": "execute_result",
          "data": {
            "text/plain": [
              "49.890625"
            ]
          },
          "metadata": {},
          "execution_count": 18
        }
      ]
    },
    {
      "cell_type": "markdown",
      "source": [
        "```03```"
      ],
      "metadata": {
        "id": "puiT_q--rg2_"
      }
    },
    {
      "cell_type": "code",
      "source": [
        "input_data = np.array([1, 2, 3])\n",
        "\n",
        "weights = np.array([0, 2, 1])\n",
        "\n",
        "target = 0"
      ],
      "metadata": {
        "id": "DypODlevrh--"
      },
      "execution_count": 19,
      "outputs": []
    },
    {
      "cell_type": "code",
      "source": [
        "result = (weights * input_data).sum()\n",
        "\n",
        "error = result - target\n",
        "\n",
        "slope = 2 * input_data * error\n",
        "\n",
        "slope"
      ],
      "metadata": {
        "colab": {
          "base_uri": "https://localhost:8080/"
        },
        "id": "Rw7vhxFMro2T",
        "outputId": "2c5c403c-4d3e-4b2f-e93b-3841da9ca34c"
      },
      "execution_count": 20,
      "outputs": [
        {
          "output_type": "execute_result",
          "data": {
            "text/plain": [
              "array([14, 28, 42])"
            ]
          },
          "metadata": {},
          "execution_count": 20
        }
      ]
    },
    {
      "cell_type": "code",
      "source": [
        "learning_rate = 0.01\n",
        "\n",
        "logits = (weights * input_data).sum()\n",
        "\n",
        "error = logits - target\n",
        "\n",
        "error"
      ],
      "metadata": {
        "colab": {
          "base_uri": "https://localhost:8080/"
        },
        "id": "LQ8KzkQTrvsx",
        "outputId": "c6134718-5376-43fd-8f61-b158243e9788"
      },
      "execution_count": 21,
      "outputs": [
        {
          "output_type": "execute_result",
          "data": {
            "text/plain": [
              "7"
            ]
          },
          "metadata": {},
          "execution_count": 21
        }
      ]
    },
    {
      "cell_type": "code",
      "source": [
        "slope = 2 * input_data * error\n",
        "\n",
        "weights_updated = weights - (learning_rate * slope)\n",
        "\n",
        "preds_updated = (weights_updated * input_data).sum()\n",
        "\n",
        "error_updated = preds_updated - target\n",
        "\n",
        "error_updated"
      ],
      "metadata": {
        "colab": {
          "base_uri": "https://localhost:8080/"
        },
        "id": "0lreP_35r1fh",
        "outputId": "05b1f051-3d37-4505-fcef-f7ed635ebb8c"
      },
      "execution_count": 22,
      "outputs": [
        {
          "output_type": "execute_result",
          "data": {
            "text/plain": [
              "5.04"
            ]
          },
          "metadata": {},
          "execution_count": 22
        }
      ]
    },
    {
      "cell_type": "markdown",
      "source": [
        "```04```"
      ],
      "metadata": {
        "id": "Ekwpc57dsTZq"
      }
    },
    {
      "cell_type": "code",
      "source": [
        "input_data = np.array([1, 2, 3])\n",
        "\n",
        "weights = np.array([-0.49929916,  1.00140168, -0.49789747])\n",
        "\n",
        "target = 0"
      ],
      "metadata": {
        "id": "VF58pX_qsUcW"
      },
      "execution_count": 23,
      "outputs": []
    },
    {
      "cell_type": "code",
      "source": [
        "def sloper(input, target, weights):\n",
        "\n",
        "  logits = (weights * input).sum()\n",
        "\n",
        "  error = logits - target\n",
        "\n",
        "  slope = 2 * input * error\n",
        "\n",
        "  return slope\n",
        "\n",
        "sloper(input_data, target, weights)"
      ],
      "metadata": {
        "colab": {
          "base_uri": "https://localhost:8080/"
        },
        "id": "B5oZ8iersYkN",
        "outputId": "fcf88ff0-1a85-4e87-f783-c7092fc2b204"
      },
      "execution_count": 25,
      "outputs": [
        {
          "output_type": "execute_result",
          "data": {
            "text/plain": [
              "array([0.01962358, 0.03924716, 0.05887074])"
            ]
          },
          "metadata": {},
          "execution_count": 25
        }
      ]
    },
    {
      "cell_type": "code",
      "source": [
        "def get_error(input, target, weights):\n",
        "\n",
        "  logits = (weights * input).sum()\n",
        "\n",
        "  error_updated = logits - target\n",
        "\n",
        "  return error_updated\n",
        "\n",
        "get_error(input_data, target, weights)"
      ],
      "metadata": {
        "colab": {
          "base_uri": "https://localhost:8080/"
        },
        "id": "Mqf3oYZAsx84",
        "outputId": "cd622332-7e83-42f6-b426-6688907f2c88"
      },
      "execution_count": 26,
      "outputs": [
        {
          "output_type": "execute_result",
          "data": {
            "text/plain": [
              "0.009811790000000098"
            ]
          },
          "metadata": {},
          "execution_count": 26
        }
      ]
    },
    {
      "cell_type": "code",
      "source": [
        "loop = 20\n",
        "\n",
        "errorlist = []\n",
        "\n",
        "for i in range(loop):\n",
        "\n",
        "  slope = sloper(input_data, target, weights)\n",
        "\n",
        "  weights = weights - 0.01 * slope\n",
        "\n",
        "  mse = get_error(input_data, target, weights)\n",
        "\n",
        "  errorlist.append(mse)"
      ],
      "metadata": {
        "id": "1uIRvu4ktSPM"
      },
      "execution_count": 27,
      "outputs": []
    },
    {
      "cell_type": "code",
      "source": [
        "import matplotlib.pyplot as plt\n",
        "\n",
        "plt.plot(errorlist);"
      ],
      "metadata": {
        "id": "6mIKYzoqtnIm"
      },
      "execution_count": null,
      "outputs": []
    }
  ]
}