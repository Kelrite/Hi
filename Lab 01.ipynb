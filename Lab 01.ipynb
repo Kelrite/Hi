{
  "cells": [
    {
      "cell_type": "code",
      "execution_count": null,
      "metadata": {
        "id": "QW864GPnXV-k"
      },
      "outputs": [],
      "source": [
        "!wget https://storage.googleapis.com/tensorflow-1-public/course3/sarcasm.json --quiet\n",
        "\n",
        "!pip install stopwords apache_beam[interactive] --quiet"
      ]
    },
    {
      "cell_type": "code",
      "execution_count": null,
      "metadata": {
        "id": "YKt88irC-Fh8"
      },
      "outputs": [],
      "source": [
        "import tensorflow as tf\n",
        "\n",
        "import tensorflow.keras.layers as layers\n",
        "\n",
        "import pandas, stopwords, numpy as np"
      ]
    },
    {
      "cell_type": "code",
      "execution_count": null,
      "metadata": {
        "id": "Sh9TFhNGAQCi"
      },
      "outputs": [],
      "source": [
        "origin = pandas.read_json(\"/content/sarcasm.json\")\n",
        "\n",
        "origin = origin[[\"headline\", \"is_sarcastic\"]]\n",
        "\n",
        "origin.iloc[:5]"
      ]
    },
    {
      "cell_type": "code",
      "execution_count": null,
      "metadata": {
        "id": "CZhkjEijXKIp"
      },
      "outputs": [],
      "source": [
        "origin.iloc[0, 0]"
      ]
    },
    {
      "cell_type": "code",
      "execution_count": null,
      "metadata": {
        "id": "y8iJzGIwA1Uu"
      },
      "outputs": [],
      "source": [
        "len(origin)"
      ]
    },
    {
      "cell_type": "code",
      "execution_count": null,
      "metadata": {
        "id": "TSXEyKjYA39q"
      },
      "outputs": [],
      "source": [
        "from sklearn.model_selection import train_test_split\n",
        "\n",
        "inputer = origin[\"headline\"].values.tolist()\n",
        "\n",
        "label = origin[\"is_sarcastic\"].values.tolist()\n",
        "\n",
        "tesplit = 0.3\n",
        "\n",
        "train_input, testi_input = train_test_split(inputer, test_size=tesplit)\n",
        "\n",
        "len(train_input), len(testi_input)"
      ]
    },
    {
      "cell_type": "code",
      "execution_count": null,
      "metadata": {
        "id": "lkmAiSzABLDR"
      },
      "outputs": [],
      "source": [
        "train_label, testi_label = train_test_split(label, test_size=tesplit)\n",
        "\n",
        "len(train_label),len(testi_label)"
      ]
    },
    {
      "cell_type": "code",
      "execution_count": null,
      "metadata": {
        "id": "bOkL9Y0GBcN5"
      },
      "outputs": [],
      "source": [
        "j = len(train_input) / len(origin)\n",
        "\n",
        "round(j, 3)"
      ]
    },
    {
      "cell_type": "code",
      "execution_count": null,
      "metadata": {
        "id": "FkQ-Yi7YaWo3"
      },
      "outputs": [],
      "source": [
        "unlist = stopwords.get_stopwords(\"en\")\n",
        "\n",
        "sentencer = lambda i : [j for j in i.lower().split() if j not in unlist]\n",
        "\n",
        "train_input = [\" \".join(sentencer(i)) for i in train_input]\n",
        "\n",
        "testi_input = [\" \".join(sentencer(i)) for i in testi_input]"
      ]
    },
    {
      "cell_type": "code",
      "execution_count": null,
      "metadata": {
        "id": "_53NddA5a1Tq"
      },
      "outputs": [],
      "source": [
        "train_input = np.array(train_input)\n",
        "\n",
        "testi_input = np.array(testi_input)\n",
        "\n",
        "train_label = np.array(train_label)\n",
        "\n",
        "testi_label = np.array(testi_label)"
      ]
    },
    {
      "cell_type": "code",
      "execution_count": null,
      "metadata": {
        "id": "JGJcY1PRbCnX"
      },
      "outputs": [],
      "source": [
        "vector = layers.TextVectorization(max_tokens=10)\n",
        "\n",
        "sample = [\"aku suka ikan\", \"ikan goreng\", \"ibu masak ikan\", \"Bapak masak ikan bersama ibu kemarin\"]\n",
        "\n",
        "vector.adapt(sample)"
      ]
    },
    {
      "cell_type": "code",
      "execution_count": null,
      "metadata": {
        "id": "L7uLTdLFdIi2"
      },
      "outputs": [],
      "source": [
        "vector.get_vocabulary()[:5]"
      ]
    },
    {
      "cell_type": "code",
      "execution_count": null,
      "metadata": {
        "id": "3n0u2F5kdSCr"
      },
      "outputs": [],
      "source": [
        "vector.get_vocabulary()[5:]"
      ]
    }
  ],
  "metadata": {
    "colab": {
      "provenance": []
    },
    "kernelspec": {
      "display_name": "Python 3",
      "name": "python3"
    },
    "language_info": {
      "name": "python"
    }
  },
  "nbformat": 4,
  "nbformat_minor": 0
}
