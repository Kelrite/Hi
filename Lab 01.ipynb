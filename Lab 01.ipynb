{
  "nbformat": 4,
  "nbformat_minor": 0,
  "metadata": {
    "colab": {
      "provenance": []
    },
    "kernelspec": {
      "name": "python3",
      "display_name": "Python 3"
    },
    "language_info": {
      "name": "python"
    }
  },
  "cells": [
    {
      "cell_type": "code",
      "source": [
        "!wget https://storage.googleapis.com/tensorflow-1-public/course3/sarcasm.json --quiet\n",
        "\n",
        "!pip install stopwords apache_beam[interactive] --quiet"
      ],
      "metadata": {
        "id": "QW864GPnXV-k"
      },
      "execution_count": null,
      "outputs": []
    },
    {
      "cell_type": "code",
      "execution_count": null,
      "metadata": {
        "id": "YKt88irC-Fh8"
      },
      "outputs": [],
      "source": [
        "import tensorflow as tf\n",
        "\n",
        "import tensorflow.keras.layers as layers\n",
        "\n",
        "import pandas, stopwords, numpy"
      ]
    },
    {
      "cell_type": "code",
      "source": [
        "origin = pandas.read_json(\"/content/sarcasm.json\")\n",
        "\n",
        "origin = origin[[\"headline\", \"is_sarcastic\"]]\n",
        "\n",
        "origin.iloc[:5]"
      ],
      "metadata": {
        "id": "Sh9TFhNGAQCi"
      },
      "execution_count": null,
      "outputs": []
    },
    {
      "cell_type": "code",
      "source": [
        "origin.iloc[0, 0]"
      ],
      "metadata": {
        "id": "CZhkjEijXKIp"
      },
      "execution_count": null,
      "outputs": []
    },
    {
      "cell_type": "code",
      "source": [
        "len(origin)"
      ],
      "metadata": {
        "id": "y8iJzGIwA1Uu"
      },
      "execution_count": null,
      "outputs": []
    },
    {
      "cell_type": "code",
      "source": [
        "from sklearn.model_selection import train_test_split\n",
        "\n",
        "inputer = origin[\"headline\"].values.tolist()\n",
        "\n",
        "label = origin[\"is_sarcastic\"].values.tolist()\n",
        "\n",
        "tesplit = 0.3\n",
        "\n",
        "train_input, testi_input = train_test_split(inputer, test_size=tesplit)\n",
        "\n",
        "len(train_input), len(testi_input)"
      ],
      "metadata": {
        "id": "TSXEyKjYA39q"
      },
      "execution_count": null,
      "outputs": []
    },
    {
      "cell_type": "code",
      "source": [
        "train_label, testi_label = train_test_split(label, test_size=tesplit)\n",
        "\n",
        "len(train_label),len(testi_label)"
      ],
      "metadata": {
        "id": "lkmAiSzABLDR"
      },
      "execution_count": null,
      "outputs": []
    },
    {
      "cell_type": "code",
      "source": [
        "j = len(train_input) / len(origin)\n",
        "\n",
        "round(j, 3)"
      ],
      "metadata": {
        "id": "bOkL9Y0GBcN5"
      },
      "execution_count": null,
      "outputs": []
    },
    {
      "cell_type": "code",
      "source": [
        "unlist = stopwords.get_stopwords(\"en\")\n",
        "\n",
        "sentencer = lambda i : [j for j in i.lower().split() if j not in unlist]\n",
        "\n",
        "train_input = [\" \".join(sentencer(i)) for i in train_input]\n",
        "\n",
        "testi_input = [\" \".join(sentencer(i)) for i in testi_input]"
      ],
      "metadata": {
        "id": "FkQ-Yi7YaWo3"
      },
      "execution_count": null,
      "outputs": []
    },
    {
      "cell_type": "code",
      "source": [
        "train_input = numpy.array(train_input)\n",
        "\n",
        "testi_input = numpy.array(testi_input)\n",
        "\n",
        "train_label = numpy.array(train_label)\n",
        "\n",
        "testi_label = numpy.array(testi_label)"
      ],
      "metadata": {
        "id": "_53NddA5a1Tq"
      },
      "execution_count": null,
      "outputs": []
    },
    {
      "cell_type": "code",
      "source": [
        "vector = layers.TextVectorization(max_tokens=10)\n",
        "\n",
        "sample = [\"aku suka ikan\", \"ikan goreng\", \"ibu masak ikan\", \"Bapak masak ikan bersama ibu kemarin\"]\n",
        "\n",
        "vector.adapt(sample)"
      ],
      "metadata": {
        "id": "JGJcY1PRbCnX"
      },
      "execution_count": null,
      "outputs": []
    },
    {
      "cell_type": "code",
      "source": [
        "vector.get_vocabulary()[:5]"
      ],
      "metadata": {
        "id": "L7uLTdLFdIi2"
      },
      "execution_count": null,
      "outputs": []
    },
    {
      "cell_type": "code",
      "source": [
        "vector.get_vocabulary()[5:]"
      ],
      "metadata": {
        "id": "3n0u2F5kdSCr"
      },
      "execution_count": null,
      "outputs": []
    },
    {
      "cell_type": "code",
      "source": [],
      "metadata": {
        "id": "yGXX-46BdUEj"
      },
      "execution_count": null,
      "outputs": []
    }
  ]
}